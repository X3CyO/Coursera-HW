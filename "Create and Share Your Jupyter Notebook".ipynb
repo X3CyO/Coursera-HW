{
  "metadata": {
    "kernelspec": {
      "name": "python",
      "display_name": "Pyolite",
      "language": "python"
    },
    "language_info": {
      "codemirror_mode": {
        "name": "python",
        "version": 3
      },
      "file_extension": ".py",
      "mimetype": "text/x-python",
      "name": "python",
      "nbconvert_exporter": "python",
      "pygments_lexer": "ipython3",
      "version": "3.8"
    }
  },
  "nbformat_minor": 4,
  "nbformat": 4,
  "cells": [
    {
      "cell_type": "markdown",
      "source": "# My Jupyter Notebook on IBM Watson Studio",
      "metadata": {}
    },
    {
      "cell_type": "markdown",
      "source": "__Maverick Kaopio__",
      "metadata": {}
    },
    {
      "cell_type": "markdown",
      "source": "Bio-Medical Research Data Scientist",
      "metadata": {}
    },
    {
      "cell_type": "markdown",
      "source": "_I am interested in data science because I love analyzing information to discover solutions. I love to read research papers, and dream of being able to help scientists better understand their results, as well as display them. I hope to use my future computer science based background to also work with more field specific tools to further research in the bio-medical field._",
      "metadata": {}
    },
    {
      "cell_type": "markdown",
      "source": "### The code below will display the ability of Jupyter Notebook to complete awesome algabraic functions (With the use of PEMDAS) ###",
      "metadata": {}
    },
    {
      "cell_type": "code",
      "source": "1+1+(1+1)/2*4-8 ",
      "metadata": {
        "trusted": true
      },
      "execution_count": 26,
      "outputs": [
        {
          "execution_count": 26,
          "output_type": "execute_result",
          "data": {
            "text/plain": "-2.0"
          },
          "metadata": {}
        }
      ]
    },
    {
      "cell_type": "markdown",
      "source": "***\n\n- 1\n    - 1.1\n- 2\n- 3\n- 4\n\n1. 1\n    1. 1.1\n2. 2\n3. 3\n4. 4\n5. 5\n\n>Block Quotes require a \">\" at the beginning of a statement\n\n<strike> strikethrough</strike> requires a \"strike\" placed within <>\n\n\n[This is an HTML Link](https://labs.cognitiveclass.ai/v2/tools/jupyterlite?ulid=ulid-78f7d13eb00348bdc5cc9142d4ba1b78d31a33ca) < just requires you to use closed square brackets with the html contained within.",
      "metadata": {}
    },
    {
      "cell_type": "code",
      "source": "'this is how you highlight code'",
      "metadata": {
        "trusted": true
      },
      "execution_count": 31,
      "outputs": [
        {
          "execution_count": 31,
          "output_type": "execute_result",
          "data": {
            "text/plain": "'this is how you highlight code'"
          },
          "metadata": {}
        }
      ]
    },
    {
      "cell_type": "code",
      "source": "",
      "metadata": {},
      "execution_count": null,
      "outputs": []
    }
  ]
}
